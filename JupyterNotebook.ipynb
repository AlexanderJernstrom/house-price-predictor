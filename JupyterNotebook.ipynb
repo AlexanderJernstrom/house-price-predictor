{
 "cells": [
  {
   "cell_type": "code",
   "execution_count": 3,
   "metadata": {},
   "outputs": [],
   "source": [
    "import pandas as pd\n",
    "import numpy as np\n",
    "import matplotlib.pyplot as plt\n",
    "from sklearn import linear_model\n",
    "from sklearn.metrics import mean_squared_error, r2_score"
   ]
  },
  {
   "cell_type": "code",
   "execution_count": 4,
   "metadata": {},
   "outputs": [
    {
     "data": {
      "text/html": [
       "<div>\n",
       "<style scoped>\n",
       "    .dataframe tbody tr th:only-of-type {\n",
       "        vertical-align: middle;\n",
       "    }\n",
       "\n",
       "    .dataframe tbody tr th {\n",
       "        vertical-align: top;\n",
       "    }\n",
       "\n",
       "    .dataframe thead th {\n",
       "        text-align: right;\n",
       "    }\n",
       "</style>\n",
       "<table border=\"1\" class=\"dataframe\">\n",
       "  <thead>\n",
       "    <tr style=\"text-align: right;\">\n",
       "      <th></th>\n",
       "      <th>Price</th>\n",
       "      <th>Bedrooms</th>\n",
       "      <th>Square meters</th>\n",
       "      <th>Price per square meter</th>\n",
       "      <th>Municipality</th>\n",
       "    </tr>\n",
       "  </thead>\n",
       "  <tbody>\n",
       "    <tr>\n",
       "      <th>0</th>\n",
       "      <td>2600000</td>\n",
       "      <td>2.0</td>\n",
       "      <td>36.0</td>\n",
       "      <td>72222</td>\n",
       "      <td>1</td>\n",
       "    </tr>\n",
       "    <tr>\n",
       "      <th>1</th>\n",
       "      <td>2325000</td>\n",
       "      <td>3.0</td>\n",
       "      <td>71.5</td>\n",
       "      <td>32517</td>\n",
       "      <td>25</td>\n",
       "    </tr>\n",
       "    <tr>\n",
       "      <th>2</th>\n",
       "      <td>3950000</td>\n",
       "      <td>2.0</td>\n",
       "      <td>32.0</td>\n",
       "      <td>123438</td>\n",
       "      <td>1</td>\n",
       "    </tr>\n",
       "    <tr>\n",
       "      <th>3</th>\n",
       "      <td>9700000</td>\n",
       "      <td>6.0</td>\n",
       "      <td>109.0</td>\n",
       "      <td>88991</td>\n",
       "      <td>1</td>\n",
       "    </tr>\n",
       "    <tr>\n",
       "      <th>4</th>\n",
       "      <td>3050000</td>\n",
       "      <td>1.5</td>\n",
       "      <td>36.0</td>\n",
       "      <td>84722</td>\n",
       "      <td>5</td>\n",
       "    </tr>\n",
       "    <tr>\n",
       "      <th>...</th>\n",
       "      <td>...</td>\n",
       "      <td>...</td>\n",
       "      <td>...</td>\n",
       "      <td>...</td>\n",
       "      <td>...</td>\n",
       "    </tr>\n",
       "    <tr>\n",
       "      <th>1895</th>\n",
       "      <td>2900000</td>\n",
       "      <td>3.0</td>\n",
       "      <td>76.0</td>\n",
       "      <td>38158</td>\n",
       "      <td>7</td>\n",
       "    </tr>\n",
       "    <tr>\n",
       "      <th>1896</th>\n",
       "      <td>3150000</td>\n",
       "      <td>4.0</td>\n",
       "      <td>75.0</td>\n",
       "      <td>42000</td>\n",
       "      <td>19</td>\n",
       "    </tr>\n",
       "    <tr>\n",
       "      <th>1897</th>\n",
       "      <td>19100000</td>\n",
       "      <td>12.0</td>\n",
       "      <td>219.0</td>\n",
       "      <td>87215</td>\n",
       "      <td>3</td>\n",
       "    </tr>\n",
       "    <tr>\n",
       "      <th>1898</th>\n",
       "      <td>11200000</td>\n",
       "      <td>7.0</td>\n",
       "      <td>185.0</td>\n",
       "      <td>60541</td>\n",
       "      <td>13</td>\n",
       "    </tr>\n",
       "    <tr>\n",
       "      <th>1899</th>\n",
       "      <td>2950000</td>\n",
       "      <td>1.0</td>\n",
       "      <td>25.0</td>\n",
       "      <td>118000</td>\n",
       "      <td>1</td>\n",
       "    </tr>\n",
       "  </tbody>\n",
       "</table>\n",
       "<p>1900 rows × 5 columns</p>\n",
       "</div>"
      ],
      "text/plain": [
       "         Price  Bedrooms  Square meters  Price per square meter  Municipality\n",
       "0      2600000       2.0           36.0                   72222             1\n",
       "1      2325000       3.0           71.5                   32517            25\n",
       "2      3950000       2.0           32.0                  123438             1\n",
       "3      9700000       6.0          109.0                   88991             1\n",
       "4      3050000       1.5           36.0                   84722             5\n",
       "...        ...       ...            ...                     ...           ...\n",
       "1895   2900000       3.0           76.0                   38158             7\n",
       "1896   3150000       4.0           75.0                   42000            19\n",
       "1897  19100000      12.0          219.0                   87215             3\n",
       "1898  11200000       7.0          185.0                   60541            13\n",
       "1899   2950000       1.0           25.0                  118000             1\n",
       "\n",
       "[1900 rows x 5 columns]"
      ]
     },
     "execution_count": 4,
     "metadata": {},
     "output_type": "execute_result"
    }
   ],
   "source": [
    "listings_df = pd.read_csv('data.csv')\n",
    "listings_df"
   ]
  },
  {
   "cell_type": "code",
   "execution_count": 5,
   "metadata": {},
   "outputs": [
    {
     "data": {
      "text/plain": [
       "nan"
      ]
     },
     "execution_count": 5,
     "metadata": {},
     "output_type": "execute_result"
    }
   ],
   "source": [
    "median_bedrooms = np.median(listings_df[['Bedrooms']])\n",
    "median_bedrooms"
   ]
  },
  {
   "cell_type": "code",
   "execution_count": 9,
   "metadata": {},
   "outputs": [],
   "source": [
    "listings_df[\"Bedrooms\"] = listings_df[\"Bedrooms\"].fillna(median_bedrooms)\n",
    "listings_df = listings_df.dropna()"
   ]
  },
  {
   "cell_type": "code",
   "execution_count": 10,
   "metadata": {},
   "outputs": [],
   "source": [
    "regresion = linear_model.LinearRegression()\n",
    "model = regresion.fit(listings_df[[\"Bedrooms\", \"Square meters\", \"Price per square meter\", \"Municipality\"]], listings_df[\"Price\"])"
   ]
  },
  {
   "cell_type": "code",
   "execution_count": 11,
   "metadata": {},
   "outputs": [],
   "source": [
    "coeficient = regresion.coef_"
   ]
  },
  {
   "cell_type": "code",
   "execution_count": 12,
   "metadata": {},
   "outputs": [
    {
     "data": {
      "text/plain": [
       "1344834206366.848"
      ]
     },
     "execution_count": 12,
     "metadata": {},
     "output_type": "execute_result"
    }
   ],
   "source": [
    "yIntercept  = regresion.intercept_\n",
    "standardError = mean_squared_error(listings_df[\"Price\"], regresion.predict(listings_df[[\"Bedrooms\", \"Square meters\", \"Price per square meter\", \"Municipality\"]]))\n",
    "score = r2_score(listings_df[\"Price\"], regresion.predict(listings_df[[\"Bedrooms\", \"Square meters\", \"Price per square meter\", \"Municipality\"]]))\n",
    "standardError"
   ]
  },
  {
   "cell_type": "code",
   "execution_count": 15,
   "metadata": {},
   "outputs": [
    {
     "name": "stderr",
     "output_type": "stream",
     "text": [
      "c:\\Users\\alexa\\Desktop\\house-listing-price-prdictor\\.venv\\lib\\site-packages\\sklearn\\base.py:445: UserWarning: X does not have valid feature names, but LinearRegression was fitted with feature names\n",
      "  warnings.warn(\n"
     ]
    },
    {
     "data": {
      "text/plain": [
       "array([2400093.29851895])"
      ]
     },
     "execution_count": 15,
     "metadata": {},
     "output_type": "execute_result"
    }
   ],
   "source": [
    "regresion.predict([[2, 36, 72222, 1]])"
   ]
  },
  {
   "cell_type": "code",
   "execution_count": 16,
   "metadata": {},
   "outputs": [
    {
     "data": {
      "text/plain": [
       "Text(0.5, 1.0, 'Price based on Price per squaremeter, Rooms, Municipality, Square meters')"
      ]
     },
     "execution_count": 16,
     "metadata": {},
     "output_type": "execute_result"
    },
    {
     "data": {
      "image/png": "[encoded data removed]",
      "text/plain": [
       "<Figure size 432x288 with 1 Axes>"
      ]
     },
     "metadata": {
      "needs_background": "light"
     },
     "output_type": "display_data"
    }
   ],
   "source": [
    "plt.scatter(regresion.predict(listings_df[[\"Bedrooms\", \"Square meters\", \"Price per square meter\", \"Municipality\"]]), listings_df[\"Price\"], color=\"blue\")\n",
    "plt.plot(regresion.predict(listings_df[[\"Bedrooms\", \"Square meters\", \"Price per square meter\", \"Municipality\"]]), regresion.predict(listings_df[[\"Bedrooms\", \"Square meters\", \"Price per square meter\", \"Municipality\"]]), color=\"red\", scalex=False, scaley=False, linewidth=2)\n",
    "plt.ylabel(\"Price\")\n",
    "plt.xlabel(\"Price per squaremeter, Rooms, Municipality, Square meters\")\n",
    "plt.title(\"Price based on Price per squaremeter, Rooms, Municipality, Square meters\")"
   ]
  }
 ],
 "metadata": {
  "interpreter": {
   "hash": "aecdba722f226d5cfe6ba8a509e7a8f6b72fb1d98aa6f79e43bd0c721916b374"
  },
  "kernelspec": {
   "display_name": "Python 3.9.6 64-bit ('.venv': venv)",
   "language": "python",
   "name": "python3"
  },
  "language_info": {
   "codemirror_mode": {
    "name": "ipython",
    "version": 3
   },
   "file_extension": ".py",
   "mimetype": "text/x-python",
   "name": "python",
   "nbconvert_exporter": "python",
   "pygments_lexer": "ipython3",
   "version": "3.9.6"
  },
  "orig_nbformat": 4
 },
 "nbformat": 4,
 "nbformat_minor": 2
}
